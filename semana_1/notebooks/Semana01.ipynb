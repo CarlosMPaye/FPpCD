{
  "nbformat": 4,
  "nbformat_minor": 0,
  "metadata": {
    "colab": {
      "provenance": []
    },
    "kernelspec": {
      "name": "python3",
      "display_name": "Python 3"
    },
    "language_info": {
      "name": "python"
    }
  },
  "cells": [
    {
      "cell_type": "code",
      "execution_count": null,
      "metadata": {
        "colab": {
          "base_uri": "https://localhost:8080/"
        },
        "id": "uvBBmJs2uCrD",
        "outputId": "47291724-53ac-4d0b-b374-0dedf74a14ad"
      },
      "outputs": [
        {
          "output_type": "stream",
          "name": "stdout",
          "text": [
            "Hola soy GodofredoDiaz Espinoza  tengo:  25 años\n"
          ]
        }
      ],
      "source": [
        "'''\n",
        "Curso: Fundamentos de Python\n",
        "Sesión: 01/04\n",
        "Fecha: 29-03-2025\n",
        "Autor: Godofredo Dia\n",
        "Email: gdiaz@tecsup.edu.pe\n",
        "'''\n",
        "\n",
        "# Comentario de una línea\n",
        "# Creando la variable [nombre], tipo string y almancena solo nombre\n",
        "nombre = \"Godofredo\"\n",
        "\n",
        "# Creando la variable [apellido], tipo string y almancena solo apellido(s)\n",
        "apellido = \"Diaz Espinoza\"\n",
        "\n",
        "# Creando la variable [edad], tipo string y almancena solo la edad.\n",
        "edad = 25\n",
        "'''\n",
        "print(type(nombre))\n",
        "print(type(apellido))\n",
        "print(type(edad))\n",
        "'''\n",
        "\n",
        "# Usando la función print() para crear un texto y convertir\n",
        "# un entero en string usando la función str()\n",
        "\n",
        "print(\"Hola soy\", nombre + apellido, \" tengo:\", \" \" + str(edad), \"años\")\n",
        "\n",
        "\n",
        "\n"
      ]
    },
    {
      "cell_type": "code",
      "source": [
        "# Mostrando las palabras reservadas.\n",
        "\n",
        "# Mostrando las palabras reservadas.\n",
        "\n",
        "import keyword\n",
        "print(keyword.kwlist)\n",
        "continue_var = \"Data\" # variable renamed\n",
        "print (continue_var)"
      ],
      "metadata": {
        "colab": {
          "base_uri": "https://localhost:8080/"
        },
        "id": "VqzJtw1mzUyX",
        "outputId": "3e338344-ae20-4845-839a-98de987b135f"
      },
      "execution_count": null,
      "outputs": [
        {
          "output_type": "stream",
          "name": "stdout",
          "text": [
            "['False', 'None', 'True', 'and', 'as', 'assert', 'async', 'await', 'break', 'class', 'continue', 'def', 'del', 'elif', 'else', 'except', 'finally', 'for', 'from', 'global', 'if', 'import', 'in', 'is', 'lambda', 'nonlocal', 'not', 'or', 'pass', 'raise', 'return', 'try', 'while', 'with', 'yield']\n",
            "Data\n"
          ]
        }
      ]
    },
    {
      "cell_type": "code",
      "source": [
        "# Ver el tipo de dato, usando la función type()\n",
        "\n",
        "dato_var = None\n",
        "dato_var = 1\n",
        "dato_var = 1.5\n",
        "dato_var = \"Hola\"\n",
        "dato_var = 0\n",
        "\n",
        "print(type(dato_var))"
      ],
      "metadata": {
        "colab": {
          "base_uri": "https://localhost:8080/"
        },
        "id": "lUUsAvvq0XRZ",
        "outputId": "7e6c068b-c5e2-4273-8d83-6e2dddc22c93"
      },
      "execution_count": null,
      "outputs": [
        {
          "output_type": "stream",
          "name": "stdout",
          "text": [
            "<class 'int'>\n"
          ]
        }
      ]
    },
    {
      "cell_type": "code",
      "source": [
        "# Solicitando ingreso de datos, usando la función input(prompt='',/)\n",
        "data_input = input(\"Ingrese su sólo números: \")\n",
        "print(data_input)\n",
        "print(type(data_input))\n",
        "\n",
        "# Convirtiendo un string a entero usando int()\n",
        "data_input = int(input(\"Ingrese su sólo números: \"))\n",
        "print(data_input)\n",
        "print(type(data_input))"
      ],
      "metadata": {
        "colab": {
          "base_uri": "https://localhost:8080/"
        },
        "id": "GSpa7VsU1bB0",
        "outputId": "4c7387d3-1cdd-41b9-d7e3-d277ae46490e"
      },
      "execution_count": null,
      "outputs": [
        {
          "output_type": "stream",
          "name": "stdout",
          "text": [
            "Ingrese su sólo números: 444\n",
            "444\n",
            "<class 'str'>\n",
            "Ingrese su sólo números: 33\n",
            "33\n",
            "<class 'int'>\n"
          ]
        }
      ]
    },
    {
      "cell_type": "code",
      "source": [
        "# Operadores.\n",
        "div_entera = 5 //2\n",
        "print(div_entera)\n",
        "\n",
        "resto = 5 % 2\n",
        "print(resto)\n",
        "\n"
      ],
      "metadata": {
        "colab": {
          "base_uri": "https://localhost:8080/"
        },
        "id": "k97xlgvT28f3",
        "outputId": "438663a8-74ee-4a2d-ddb4-fa1a32cf7464"
      },
      "execution_count": null,
      "outputs": [
        {
          "output_type": "stream",
          "name": "stdout",
          "text": [
            "2\n",
            "1\n"
          ]
        }
      ]
    },
    {
      "cell_type": "code",
      "source": [
        "# Reto 01\n",
        "# Genere un programa que solicite 3 números y devuelva, la suma, resta y multiplicación.\n",
        "dato1 = int(input(\"Ingrese el primer número: \"))\n",
        "dato2 = int(input(\"Ingrese el segundo número: \"))\n",
        "dato3 = int(input(\"Ingrese el tercer número: \"))\n",
        "\n",
        "suma = dato1 + dato2 + dato3\n",
        "resta = dato1 - dato2 - dato3\n",
        "multiplicacion = dato1 * dato2 * dato3\n",
        "\n",
        "print (\"La suma es: \", suma)\n",
        "print (\"La resta es: \", resta)\n",
        "print (\"La multiplicación es: \", multiplicacion)"
      ],
      "metadata": {
        "colab": {
          "base_uri": "https://localhost:8080/"
        },
        "id": "BvoSu3zn3X-O",
        "outputId": "e5926fc7-9fb7-45ba-b2c4-ba0ff6394b2d"
      },
      "execution_count": null,
      "outputs": [
        {
          "output_type": "stream",
          "name": "stdout",
          "text": [
            "Ingrese el primer número: 10\n",
            "Ingrese el segundo número: 5\n",
            "Ingrese el tercer número: 4\n",
            "La suma es:  19\n",
            "La resta es:  1\n",
            "La multiplicación es:  200\n"
          ]
        }
      ]
    },
    {
      "cell_type": "code",
      "source": [
        "# Trabajando con operadores lógicos (True and False).\n",
        "\n",
        "x,y = 42,5\n",
        "res = x>y\n",
        "print (res)"
      ],
      "metadata": {
        "colab": {
          "base_uri": "https://localhost:8080/"
        },
        "id": "BcuFaXgx4Iqd",
        "outputId": "45a0293f-228a-4f8b-d872-25dbb65e0bf3"
      },
      "execution_count": null,
      "outputs": [
        {
          "output_type": "stream",
          "name": "stdout",
          "text": [
            "True\n"
          ]
        }
      ]
    },
    {
      "cell_type": "code",
      "source": [
        "# Operadores string\n",
        "# 01234567\n",
        "# 5   -2-1\n",
        "mensaje = \"Hola como estas\"\n",
        "print (mensaje)\n",
        "print (mensaje[5])\n"
      ],
      "metadata": {
        "colab": {
          "base_uri": "https://localhost:8080/"
        },
        "id": "80XLj7PI41oH",
        "outputId": "fa3844a5-dfb8-45ba-c752-c4e41f9b2821"
      },
      "execution_count": null,
      "outputs": [
        {
          "output_type": "stream",
          "name": "stdout",
          "text": [
            "Hola como estas\n",
            "c\n"
          ]
        }
      ]
    },
    {
      "cell_type": "code",
      "source": [
        "from re import M\n",
        "# Operadores string\n",
        "mensaje =\"Hola mundo\"\n",
        "print(mensaje.upper())"
      ],
      "metadata": {
        "colab": {
          "base_uri": "https://localhost:8080/"
        },
        "id": "yv7Kz68h58sM",
        "outputId": "2d4e809b-7b8a-4522-f231-1d4487fa6fd9"
      },
      "execution_count": null,
      "outputs": [
        {
          "output_type": "stream",
          "name": "stdout",
          "text": [
            "HOLA MUNDO\n"
          ]
        }
      ]
    },
    {
      "cell_type": "code",
      "source": [
        "nombres = [\"Pedro\",\"Juan\",\"Santiago\",\"Judas\"]\n",
        "#nombres = [3,3,3]\n",
        "print(type(nombres))\n",
        "\n",
        "# Sintaxis de for\n",
        "# suma de n en la lista\n",
        "suma_string = \"\"\n",
        "for elemento in nombres:\n",
        "  suma_string = 2 * elemento\n",
        "  print(suma_string)\n",
        "\n",
        "\n",
        "print(suma_string)\n"
      ],
      "metadata": {
        "colab": {
          "base_uri": "https://localhost:8080/"
        },
        "id": "A-CdYMMP6zzB",
        "outputId": "b8a636d6-ac56-456f-9d29-e43c3889ce4e"
      },
      "execution_count": null,
      "outputs": [
        {
          "output_type": "stream",
          "name": "stdout",
          "text": [
            "<class 'list'>\n",
            "PedroPedro\n",
            "JuanJuan\n",
            "SantiagoSantiago\n",
            "JudasJudas\n",
            "JudasJudas\n"
          ]
        }
      ]
    }
  ]
}